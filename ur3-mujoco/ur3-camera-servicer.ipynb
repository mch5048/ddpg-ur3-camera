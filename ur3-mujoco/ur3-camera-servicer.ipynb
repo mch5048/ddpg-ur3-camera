{
 "cells": [
  {
   "cell_type": "code",
   "execution_count": 1,
   "metadata": {},
   "outputs": [],
   "source": [
    "IS_RENDER = 0\n",
    "TCP_PORT = 12001"
   ]
  },
  {
   "cell_type": "code",
   "execution_count": 2,
   "metadata": {},
   "outputs": [],
   "source": [
    "from mujoco_py import load_model_from_xml, load_model_from_path, MjSim, MjViewer\n",
    "import math\n",
    "import os\n",
    "import numpy as np\n",
    "\n",
    "from mujoco_py.modder import TextureModder\n",
    "\n",
    "class manipulator():\n",
    "    def __init__(self):\n",
    "        \n",
    "        self.DoF = DoF = 6\n",
    "        self.model = load_model_from_path(\"model-ur3/ur3-camera.xml\")\n",
    "        self.sim = MjSim(self.model)\n",
    "        \n",
    "        self.sim.data.qpos[1] = -np.pi/2         \n",
    "        self.sim.data.qpos[3] = -np.pi/2\n",
    "        self.sim.step()\n",
    "\n",
    "        if IS_RENDER: self.viewer = MjViewer(self.sim)\n",
    "        self.sim_state = self.sim.get_state()\n",
    "        \n",
    "        self.state_dim = DoF*3+3\n",
    "        self.action_dim = DoF\n",
    "        \n",
    "    def reset(self):\n",
    "        self.sim.set_state(self.sim_state)\n",
    "        \n",
    "        rxyz = (\"0.5 1.0 0.65\").split(\" \")\n",
    "        \n",
    "        self.rx, self.ry, self.rz = float(rxyz[0]), float(rxyz[1]), float(rxyz[2])\n",
    "        \n",
    "        self.qvel=np.zeros( self.DoF )\n",
    "        \n",
    "        s = []\n",
    "        for i in range(self.DoF):\n",
    "            s.append( self.qvel[i] )\n",
    "        for i in range(self.DoF):\n",
    "            s.append( self.sim.data.qvel[i] )\n",
    "        for i in range(self.DoF):\n",
    "            s.append( self.sim.data.qpos[i] )\n",
    "        s.append( self.rx )\n",
    "        s.append( self.ry )\n",
    "        s.append( self.rz )\n",
    "        s = np.array(s)\n",
    "        \n",
    "        return s\n",
    "    def step(self, a):\n",
    "                \n",
    "        for i in range( self.DoF ):\n",
    "            self.qvel[ i ] += a[i]\n",
    "            \n",
    "            # The limitation of velocity is important\n",
    "            if self.qvel[i]>1.0:\n",
    "                self.qvel[i] = 1.0\n",
    "            if self.qvel[i]<-1.0:\n",
    "                self.qvel[i] = -1.0\n",
    "                \n",
    "            self.sim.data.qvel[i] = self.qvel[i] \n",
    "                        \n",
    "\n",
    "        \n",
    "        self.sim.step()\n",
    "        if IS_RENDER: self.viewer.render()\n",
    "        \n",
    "        R_mat = np.matrix([self.sim.data.sensordata[3:6], self.sim.data.sensordata[6:9], self.sim.data.sensordata[9:12]])    \n",
    "        T = np.matrix([self.sim.data.sensordata[:3]])\n",
    "        p_world = np.matrix([ [ self.rx, self.ry, self.rz ] ])\n",
    "\n",
    "        p_end = (p_world - T)*(R_mat.T)   \n",
    "        self.p_end = p_end\n",
    "        p_camera = [ p_end[0,1], p_end[0,2], p_end[0,0] ]\n",
    "        f = 0.01\n",
    "        x_im = p_camera[0]*f/p_camera[2]\n",
    "        y_im = p_camera[1]*f/p_camera[2]\n",
    "\n",
    "        \n",
    "        \n",
    "        dis = np.linalg.norm( np.array( [x_im, y_im] ) - np.array( [0, 0] ) )\n",
    "        r = -dis\n",
    "        \n",
    "        s = []\n",
    "        for i in range(self.DoF):\n",
    "            s.append( self.qvel[i] )\n",
    "        for i in range(self.DoF):\n",
    "            s.append( self.sim.data.qvel[i] )\n",
    "        for i in range(self.DoF):\n",
    "            s.append( self.sim.data.qpos[i] )\n",
    "        s.append( self.rx )\n",
    "        s.append( self.ry )\n",
    "        s.append( self.rz )\n",
    "        s = np.array(s)\n",
    "        \n",
    "        d = 0\n",
    "        info = [dis]\n",
    "        return s, r, d, info"
   ]
  },
  {
   "cell_type": "code",
   "execution_count": null,
   "metadata": {},
   "outputs": [],
   "source": []
  },
  {
   "cell_type": "markdown",
   "metadata": {},
   "source": [
    "## 1.2 Core Code of Servicer:"
   ]
  },
  {
   "cell_type": "code",
   "execution_count": 3,
   "metadata": {},
   "outputs": [],
   "source": [
    "import numpy as np\n",
    "\n",
    "import socket\n",
    "import threading\n",
    "\n",
    "import json\n",
    "\n",
    "def env_servicer(env):\n",
    "    #Create The Socket\n",
    "    s=socket.socket(socket.AF_INET,socket.SOCK_STREAM)\n",
    "\n",
    "    #Listen The Port\n",
    "    s.bind(('',TCP_PORT))\n",
    "    s.listen(5)\n",
    "    print( 'TCP_PORT: ', TCP_PORT, ',', 'Waiting for connection...')\n",
    "\n",
    "    def tcplink(sock,addr):\n",
    "        print('Accept new connection from %s:%s...' % addr)\n",
    "        sock.send( ('Welcome!').encode() )\n",
    "        while True:\n",
    "            data=sock.recv(1024).decode()\n",
    "            # print(\"data: \", data)\n",
    "\n",
    "            data_json = json.loads( data )\n",
    "            # print('data_json[\"type\"]: ', data_json[\"type\"])\n",
    "\n",
    "            if data_json[\"type\"] == \"init\":\n",
    "                data = { 'state_dim' : env.state_dim, 'action_dim' : env.action_dim, 'DoF' : env.DoF } \n",
    "\n",
    "            elif data_json[\"type\"] == \"reset\":\n",
    "                state = env.reset()\n",
    "                data = { 'state' : state.tolist() } \n",
    "\n",
    "            elif data_json[\"type\"] == \"step\":\n",
    "                a = np.array( data_json[\"action\"] )\n",
    "                state_next, r, done, info = env.step(a)\n",
    "                data = { 'state' : state_next.tolist(), 'reward' : r, 'done' : done, 'info' : info } \n",
    "            elif data_json[\"type\"] == \"close\":\n",
    "                break\n",
    "                \n",
    "            str_json = json.dumps(data)\n",
    "            sock.send( str_json.encode() )\n",
    "        sock.close()\n",
    "        np.save(\"sensordata_keep\", sensordata_keep)\n",
    "        np.save(\"qpos_keep\", qpos_keep)\n",
    "\n",
    "        print('Connection from %s:%s closed.'%addr)\n",
    "        \n",
    "    while True:\n",
    "        # Accept A New Connection\n",
    "        sock,addr=s.accept()\n",
    "        \n",
    "        # Create A New Thread to Deal with The TCP Connection\n",
    "        t=threading.Thread(target=tcplink(sock,addr))"
   ]
  },
  {
   "cell_type": "code",
   "execution_count": null,
   "metadata": {},
   "outputs": [
    {
     "name": "stdout",
     "output_type": "stream",
     "text": [
      "TCP_PORT:  12001 , Waiting for connection...\n",
      "Accept new connection from 127.0.0.1:13936...\n"
     ]
    }
   ],
   "source": [
    "env_servicer( manipulator() )"
   ]
  },
  {
   "cell_type": "code",
   "execution_count": null,
   "metadata": {},
   "outputs": [],
   "source": []
  },
  {
   "cell_type": "markdown",
   "metadata": {},
   "source": [
    "#### Analysis 002"
   ]
  },
  {
   "cell_type": "markdown",
   "metadata": {},
   "source": [
    "##### Rotation"
   ]
  },
  {
   "cell_type": "code",
   "execution_count": null,
   "metadata": {},
   "outputs": [],
   "source": [
    "env = manipulator()\n",
    "env.reset()\n",
    "self = env\n",
    "R = np.matrix([self.sim.data.sensordata[3:6], self.sim.data.sensordata[6:9], self.sim.data.sensordata[9:12]])\n",
    "T = np.matrix([self.sim.data.sensordata[:3]])\n",
    "self.sim.data.sensordata[-3:]\n",
    "rxyz = (\"-0.15638756 -0.2379 -0.673\").split(\" \")\n",
    "pos_end = np.matrix([ [float(rxyz[0]), float(rxyz[1]), float(rxyz[2])] ])\n",
    "pos_end*R + T\n",
    "p_world = np.matrix([[ 0.2379 ,  0.05555,  0.02115]])\n",
    "(p_world - T)*(R.T)\n"
   ]
  },
  {
   "cell_type": "markdown",
   "metadata": {},
   "source": [
    "#### Analysis 001"
   ]
  },
  {
   "cell_type": "code",
   "execution_count": 1,
   "metadata": {},
   "outputs": [],
   "source": [
    "import numpy as np"
   ]
  },
  {
   "cell_type": "code",
   "execution_count": 5,
   "metadata": {},
   "outputs": [],
   "source": [
    "rxyz = np.array([ -0.2986, 0.19425, 0.39555 ])"
   ]
  },
  {
   "cell_type": "code",
   "execution_count": 2,
   "metadata": {},
   "outputs": [],
   "source": [
    "sensordata_keep = np.load( \"sensordata_keep.npy\" )"
   ]
  },
  {
   "cell_type": "code",
   "execution_count": 3,
   "metadata": {},
   "outputs": [
    {
     "data": {
      "text/plain": [
       "(500, 3)"
      ]
     },
     "execution_count": 3,
     "metadata": {},
     "output_type": "execute_result"
    }
   ],
   "source": [
    "sensordata_keep.shape"
   ]
  },
  {
   "cell_type": "code",
   "execution_count": 4,
   "metadata": {},
   "outputs": [
    {
     "data": {
      "text/plain": [
       "array([ -3.60139680e-13,   1.94250000e-01,   6.94150000e-01])"
      ]
     },
     "execution_count": 4,
     "metadata": {},
     "output_type": "execute_result"
    }
   ],
   "source": [
    "sensordata_keep[0]"
   ]
  },
  {
   "cell_type": "code",
   "execution_count": 6,
   "metadata": {},
   "outputs": [
    {
     "data": {
      "text/plain": [
       "0.42228416972435151"
      ]
     },
     "execution_count": 6,
     "metadata": {},
     "output_type": "execute_result"
    }
   ],
   "source": [
    "np.linalg.norm( sensordata_keep[0] - rxyz )"
   ]
  },
  {
   "cell_type": "code",
   "execution_count": 7,
   "metadata": {},
   "outputs": [
    {
     "data": {
      "text/plain": [
       "0.056349188617117803"
      ]
     },
     "execution_count": 7,
     "metadata": {},
     "output_type": "execute_result"
    }
   ],
   "source": [
    "np.linalg.norm( sensordata_keep[-1] - rxyz )"
   ]
  },
  {
   "cell_type": "code",
   "execution_count": 8,
   "metadata": {},
   "outputs": [
    {
     "data": {
      "text/plain": [
       "array([-0.35309129,  0.18174517,  0.40258987])"
      ]
     },
     "execution_count": 8,
     "metadata": {},
     "output_type": "execute_result"
    }
   ],
   "source": [
    "sensordata_keep[-1]"
   ]
  },
  {
   "cell_type": "code",
   "execution_count": null,
   "metadata": {},
   "outputs": [],
   "source": []
  }
 ],
 "metadata": {
  "kernelspec": {
   "display_name": "Python 3",
   "language": "python",
   "name": "python3"
  },
  "language_info": {
   "codemirror_mode": {
    "name": "ipython",
    "version": 3
   },
   "file_extension": ".py",
   "mimetype": "text/x-python",
   "name": "python",
   "nbconvert_exporter": "python",
   "pygments_lexer": "ipython3",
   "version": "3.5.2"
  }
 },
 "nbformat": 4,
 "nbformat_minor": 2
}
